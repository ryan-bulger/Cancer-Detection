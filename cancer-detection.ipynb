{
 "cells": [
  {
   "cell_type": "markdown",
   "id": "6e21594a",
   "metadata": {},
   "source": [
    "- binary image classification problem\n",
    "- identify metastatic cancer in small image patches taken from larger digital pathology scans\n",
    "- https://www.kaggle.com/c/histopathologic-cancer-detection/overview\n",
    "\n",
    "Step 1\n",
    "- Brief description of the problem and data\n",
    "- Briefly describe the challenge problem and NLP. Describe the size, dimension, structure, etc., of the data. \n",
    "Step 2\n",
    "- Exploratory Data Analysis (EDA) — Inspect, Visualize and Clean the Data\n",
    "- Show a few visualizations like histograms. \n",
    "- Describe any data cleaning procedures.\n",
    "- Based on your EDA, what is your plan of analysis? \n",
    "Step 3\n",
    "- Model Architecture\n",
    "- Describe your model architecture and reasoning for why you believe that specific architecture would be suitable for this problem.\n",
    "- Compare multiple architectures and tune hyperparameters.\n",
    "- Describe hyperparameter optimization procedure summary\n",
    "Step 4\n",
    "- Results and Analysis\n",
    "- Includes results with tables and figures.\n",
    "- There is an analysis of why or why not something worked well, troubleshooting, etc.\n",
    "Step 5\n",
    "- Conclusion\n",
    "- Discuss and interpret results as well as learnings and takeaways.\n",
    "- What did and did not help improve the performance of your models?\n",
    "- What improvements could you try in the future?"
   ]
  },
  {
   "cell_type": "code",
   "execution_count": null,
   "id": "82f6cf23",
   "metadata": {},
   "outputs": [],
   "source": []
  }
 ],
 "metadata": {
  "kernelspec": {
   "display_name": "Python 3",
   "language": "python",
   "name": "python3"
  },
  "language_info": {
   "name": "python",
   "version": "3.13.5"
  }
 },
 "nbformat": 4,
 "nbformat_minor": 5
}
